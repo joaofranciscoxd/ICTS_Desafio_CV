{
 "cells": [
  {
   "cell_type": "markdown",
   "metadata": {},
   "source": [
    "## A solução foi implementada no google colab"
   ]
  },
  {
   "cell_type": "code",
   "execution_count": 1,
   "metadata": {
    "colab": {
     "base_uri": "https://localhost:8080/"
    },
    "id": "YWeJfY879Fk_",
    "outputId": "1618b943-2155-4e3e-8ad6-796246bf2162",
    "scrolled": true
   },
   "outputs": [
    {
     "name": "stdout",
     "output_type": "stream",
     "text": [
      "Mounted at /content/drive\n"
     ]
    }
   ],
   "source": [
    "from google.colab import drive\n",
    "drive.mount('/content/drive')"
   ]
  },
  {
   "cell_type": "markdown",
   "metadata": {},
   "source": [
    "# Importação dos principais pacotes"
   ]
  },
  {
   "cell_type": "code",
   "execution_count": 2,
   "metadata": {
    "id": "B0LUSPXnWSM1"
   },
   "outputs": [],
   "source": [
    "import numpy as np\n",
    "import pandas as pd\n",
    "import matplotlib.pyplot as plt\n",
    "import random\n",
    "import cv2\n",
    "import os\n",
    "import os,glob\n",
    "from keras.preprocessing.image import ImageDataGenerator,load_img\n",
    "from tensorflow.keras.utils import to_categorical\n",
    "from sklearn.model_selection import train_test_split\n",
    "from os import listdir,makedirs\n",
    "from os.path import isfile,join\n",
    "from pathlib import Path"
   ]
  },
  {
   "cell_type": "markdown",
   "metadata": {},
   "source": [
    "# Scaneando todos os arquivos jpg da pasta images"
   ]
  },
  {
   "cell_type": "code",
   "execution_count": 3,
   "metadata": {
    "id": "1jPN830LWpYV"
   },
   "outputs": [],
   "source": [
    "def scan_files(path,regra): \n",
    "    resultados = list(Path(path).rglob(str(regra)))\n",
    "    return resultados"
   ]
  },
  {
   "cell_type": "code",
   "execution_count": 4,
   "metadata": {
    "id": "Sa6oFuIaNetm"
   },
   "outputs": [],
   "source": [
    "filenames = scan_files(path = '/content/drive/MyDrive/archive/images/images',regra = \"*.[jJ][pP][gG]\") #existem 3 arquivos com extensão diferente de .jpg, então iremos ignora-los"
   ]
  },
  {
   "cell_type": "markdown",
   "metadata": {},
   "source": [
    "# Uma vez que a cor não é importante para diferenciar se é cachorro ou gato, iremos utilizar imagens em escala de cinza a fim de reduzir a complexidade e podendo utilizar-se de resoluções maiores"
   ]
  },
  {
   "cell_type": "markdown",
   "metadata": {},
   "source": [
    "## Cria a pasta destino das imagens cinzas"
   ]
  },
  {
   "cell_type": "code",
   "execution_count": 5,
   "metadata": {
    "id": "nYBKo4KrQC-Z"
   },
   "outputs": [],
   "source": [
    "path = '/content/drive/MyDrive/archive/images/images' # Source Folder\n",
    "dstpath = '/content/drive/MyDrive/archive/images/gray_images' # Destination Folder\n",
    "try:\n",
    "    makedirs(dstpath)\n",
    "except:\n",
    "    print (\"Directory already exist, images will be written in same folder\")"
   ]
  },
  {
   "cell_type": "markdown",
   "metadata": {},
   "source": [
    "## Converte para escala de cinza"
   ]
  },
  {
   "cell_type": "code",
   "execution_count": 6,
   "metadata": {
    "colab": {
     "base_uri": "https://localhost:8080/"
    },
    "id": "YKvgJPK0QUSJ",
    "outputId": "b6e0f10f-c0d7-4b92-8fd3-819a3b2a3d78"
   },
   "outputs": [
    {
     "name": "stdout",
     "output_type": "stream",
     "text": [
      "/content/drive/MyDrive/archive/images/images/Egyptian_Mau_139.jpg is not converted\n",
      "/content/drive/MyDrive/archive/images/images/Egyptian_Mau_145.jpg is not converted\n",
      "/content/drive/MyDrive/archive/images/images/Egyptian_Mau_167.jpg is not converted\n",
      "/content/drive/MyDrive/archive/images/images/Egyptian_Mau_177.jpg is not converted\n",
      "/content/drive/MyDrive/archive/images/images/Egyptian_Mau_191.jpg is not converted\n",
      "/content/drive/MyDrive/archive/images/images/Abyssinian_34.jpg is not converted\n",
      "Fim da conversão\n"
     ]
    }
   ],
   "source": [
    "# Folder won't used\n",
    "files = filenames\n",
    "altura_total = 0\n",
    "largura_total = 0\n",
    "count = 0\n",
    "for count, image in enumerate(files):\n",
    "    try:\n",
    "        original_image = image\n",
    "        image = str(image)\n",
    "        img = cv2.imread(image)\n",
    "        gray = cv2.cvtColor(img,cv2.COLOR_RGB2GRAY)\n",
    "        dstPath = join(dstpath,original_image.name)\n",
    "        cv2.imwrite(dstPath,gray)\n",
    "        altura,largura,ch = img.shape\n",
    "        altura_total = altura_total +  altura\n",
    "        largura_total = largura_total + largura\n",
    "    except:\n",
    "        pass\n",
    "        print (\"{} is not converted\".format(image))\n",
    "\n",
    "altura_media = int(altura_total/(count+1)) #390\n",
    "largura_media = int(largura_total/(count+1)) #436\n",
    "print('Fim da conversão')"
   ]
  },
  {
   "cell_type": "markdown",
   "metadata": {},
   "source": [
    "# A fim de não gerar muitas distorções nas imagens, iremos utilizar a resolução média das imagens"
   ]
  },
  {
   "cell_type": "code",
   "execution_count": 7,
   "metadata": {
    "colab": {
     "base_uri": "https://localhost:8080/"
    },
    "id": "-KwTJyvV6sor",
    "outputId": "46eab947-2e78-40e6-bdbf-bc7459d1a4d9"
   },
   "outputs": [
    {
     "data": {
      "text/plain": [
       "(390, 436)"
      ]
     },
     "execution_count": 7,
     "metadata": {},
     "output_type": "execute_result"
    }
   ],
   "source": [
    "altura_media,largura_media"
   ]
  },
  {
   "cell_type": "code",
   "execution_count": 8,
   "metadata": {
    "id": "iIJVjz_6ajfL"
   },
   "outputs": [],
   "source": [
    "#Propriedades das imagens\n",
    "Image_Width=largura_media\n",
    "Image_Height=altura_media\n",
    "Image_Size=(Image_Width,Image_Height)\n",
    "Image_Channels= 1"
   ]
  },
  {
   "cell_type": "markdown",
   "metadata": {},
   "source": [
    "# Scaneando o caminho das imagens em escala de cinza"
   ]
  },
  {
   "cell_type": "code",
   "execution_count": 9,
   "metadata": {
    "id": "gDRFHU3_QZUF"
   },
   "outputs": [],
   "source": [
    "filenames = scan_files(path = '/content/drive/MyDrive/archive/images/gray_images',regra = \"*.[jJ][pP][gG]\") #existem 3 arquivos com extensão diferente de .jpg, então iremos ignora-los"
   ]
  },
  {
   "cell_type": "markdown",
   "metadata": {},
   "source": [
    "# Criando os rótulos"
   ]
  },
  {
   "cell_type": "code",
   "execution_count": 10,
   "metadata": {
    "id": "B50Nl2GscfmP"
   },
   "outputs": [],
   "source": [
    "cats = 0\n",
    "dogs = 0\n",
    "#Preparando o dataset para o treinamento do modelo:\n",
    "categories=[]\n",
    "for f_name in filenames:\n",
    "    file_name = f_name.name\n",
    "    file_name = str(file_name)[:str(file_name).find('.')]\n",
    "\n",
    "    if file_name.istitle():\n",
    "        categories.append(0) # cat = 0\n",
    "        cats +=1\n",
    "    else:\n",
    "        categories.append(1) # dog = 1\n",
    "        dogs+=1"
   ]
  },
  {
   "cell_type": "code",
   "execution_count": 11,
   "metadata": {
    "colab": {
     "base_uri": "https://localhost:8080/"
    },
    "id": "HU1ujmVK6fxW",
    "outputId": "ae8bd4b9-5449-410b-e9f4-9f6dc7ceaf20"
   },
   "outputs": [
    {
     "data": {
      "text/plain": [
       "(2394, 4990)"
      ]
     },
     "execution_count": 11,
     "metadata": {},
     "output_type": "execute_result"
    }
   ],
   "source": [
    "cats,dogs"
   ]
  },
  {
   "cell_type": "code",
   "execution_count": 12,
   "metadata": {
    "colab": {
     "base_uri": "https://localhost:8080/"
    },
    "id": "R_VzfbGz64rS",
    "outputId": "65a0ff5f-226e-4400-bf1f-9ffcb818d1cf"
   },
   "outputs": [
    {
     "data": {
      "text/plain": [
       "7384"
      ]
     },
     "execution_count": 12,
     "metadata": {},
     "output_type": "execute_result"
    }
   ],
   "source": [
    "cats+dogs"
   ]
  },
  {
   "cell_type": "code",
   "execution_count": 13,
   "metadata": {
    "id": "R2WmEXmmkKSW"
   },
   "outputs": [],
   "source": [
    "str_filenames = []\n",
    "for f_name in filenames:\n",
    "    str_filename = '/content/drive/MyDrive/archive/images/gray_images/'+f_name.name\n",
    "    str_filenames.append(str_filename)"
   ]
  },
  {
   "cell_type": "markdown",
   "metadata": {},
   "source": [
    "# Criando a estrutura da rede"
   ]
  },
  {
   "cell_type": "code",
   "execution_count": 14,
   "metadata": {
    "id": "ni3bzzPMhbvH"
   },
   "outputs": [],
   "source": [
    "#Criando o modelo de rede neural:\n",
    "from keras.models import Sequential\n",
    "from keras.layers import Conv2D,MaxPooling2D, Dropout,Flatten,Dense,Activation, BatchNormalization\n",
    "model=Sequential()\n",
    "model.add(Conv2D(32,(3,3),activation='relu',input_shape=(Image_Width,Image_Height,Image_Channels)))\n",
    "model.add(BatchNormalization())\n",
    "model.add(MaxPooling2D(pool_size=(2,2)))\n",
    "model.add(Dropout(0.25))\n",
    "model.add(Conv2D(64,(3,3),activation='relu'))\n",
    "model.add(BatchNormalization())\n",
    "model.add(MaxPooling2D(pool_size=(2,2)))\n",
    "model.add(Dropout(0.25))\n",
    "model.add(Conv2D(128,(3,3),activation='relu'))\n",
    "model.add(BatchNormalization())\n",
    "model.add(MaxPooling2D(pool_size=(2,2)))\n",
    "model.add(Dropout(0.25))\n",
    "model.add(Flatten())\n",
    "model.add(Dense(512,activation='relu'))\n",
    "model.add(BatchNormalization())\n",
    "model.add(Dropout(0.5))\n",
    "model.add(Dense(2,activation='softmax'))\n",
    "model.compile(loss='categorical_crossentropy', optimizer='rmsprop',metrics=['accuracy'])"
   ]
  },
  {
   "cell_type": "code",
   "execution_count": 15,
   "metadata": {
    "colab": {
     "base_uri": "https://localhost:8080/"
    },
    "id": "Dtzxskzth-dk",
    "outputId": "43219003-6fa3-4247-ad10-29f5739e13cf"
   },
   "outputs": [
    {
     "name": "stdout",
     "output_type": "stream",
     "text": [
      "Model: \"sequential\"\n",
      "_________________________________________________________________\n",
      " Layer (type)                Output Shape              Param #   \n",
      "=================================================================\n",
      " conv2d (Conv2D)             (None, 434, 388, 32)      320       \n",
      "                                                                 \n",
      " batch_normalization (BatchN  (None, 434, 388, 32)     128       \n",
      " ormalization)                                                   \n",
      "                                                                 \n",
      " max_pooling2d (MaxPooling2D  (None, 217, 194, 32)     0         \n",
      " )                                                               \n",
      "                                                                 \n",
      " dropout (Dropout)           (None, 217, 194, 32)      0         \n",
      "                                                                 \n",
      " conv2d_1 (Conv2D)           (None, 215, 192, 64)      18496     \n",
      "                                                                 \n",
      " batch_normalization_1 (Batc  (None, 215, 192, 64)     256       \n",
      " hNormalization)                                                 \n",
      "                                                                 \n",
      " max_pooling2d_1 (MaxPooling  (None, 107, 96, 64)      0         \n",
      " 2D)                                                             \n",
      "                                                                 \n",
      " dropout_1 (Dropout)         (None, 107, 96, 64)       0         \n",
      "                                                                 \n",
      " conv2d_2 (Conv2D)           (None, 105, 94, 128)      73856     \n",
      "                                                                 \n",
      " batch_normalization_2 (Batc  (None, 105, 94, 128)     512       \n",
      " hNormalization)                                                 \n",
      "                                                                 \n",
      " max_pooling2d_2 (MaxPooling  (None, 52, 47, 128)      0         \n",
      " 2D)                                                             \n",
      "                                                                 \n",
      " dropout_2 (Dropout)         (None, 52, 47, 128)       0         \n",
      "                                                                 \n",
      " flatten (Flatten)           (None, 312832)            0         \n",
      "                                                                 \n",
      " dense (Dense)               (None, 512)               160170496 \n",
      "                                                                 \n",
      " batch_normalization_3 (Batc  (None, 512)              2048      \n",
      " hNormalization)                                                 \n",
      "                                                                 \n",
      " dropout_3 (Dropout)         (None, 512)               0         \n",
      "                                                                 \n",
      " dense_1 (Dense)             (None, 2)                 1026      \n",
      "                                                                 \n",
      "=================================================================\n",
      "Total params: 160,267,138\n",
      "Trainable params: 160,265,666\n",
      "Non-trainable params: 1,472\n",
      "_________________________________________________________________\n"
     ]
    }
   ],
   "source": [
    "# Analisando as camadas do modelo\n",
    "model.summary()"
   ]
  },
  {
   "cell_type": "code",
   "execution_count": 16,
   "metadata": {
    "id": "dF7hu9IaiJjX"
   },
   "outputs": [],
   "source": [
    "#Definindo os callbacks e o LR\n",
    "\n",
    "from keras.callbacks import EarlyStopping, ReduceLROnPlateau,ModelCheckpoint\n",
    "\n",
    "earlystop = EarlyStopping(patience = 20)\n",
    "learning_rate_reduction = ReduceLROnPlateau(monitor = 'val_accuracy',patience = 2,verbose = 1,factor = 0.5,min_lr = 0.00001)\n",
    "\n",
    "checkpoint = ModelCheckpoint('/content/drive/MyDrive/best_model_gray.h5', monitor= 'val_accuracy', save_best_only=True) \n",
    "\n",
    "callbacks = [earlystop,learning_rate_reduction,checkpoint]"
   ]
  },
  {
   "cell_type": "markdown",
   "metadata": {},
   "source": [
    "## Stratificando pela categoria com menor casos. Nesse caso, a categoria gatos que possuem menos amostras"
   ]
  },
  {
   "cell_type": "code",
   "execution_count": 17,
   "metadata": {
    "id": "Jw434rbiyboz"
   },
   "outputs": [],
   "source": [
    "df=pd.DataFrame({\n",
    "    'filename':str_filenames,\n",
    "    'category':categories\n",
    "})\n",
    "df = df.groupby('category', group_keys=False).apply(lambda x: x.sample(min(len(x), min(cats,dogs)))).reset_index(drop=True)"
   ]
  },
  {
   "cell_type": "markdown",
   "metadata": {},
   "source": [
    "# Splitando entre o conjunto de treino e validação"
   ]
  },
  {
   "cell_type": "code",
   "execution_count": 18,
   "metadata": {
    "id": "WoOeadSsxjEn"
   },
   "outputs": [],
   "source": [
    "#Splitando e ajustando os dfs\n",
    "df[\"category\"] = df[\"category\"].replace({0:'cat',1:'dog'})\n",
    "train_df,validate_df = train_test_split(df,test_size=0.20, random_state=42,shuffle=True) #, stratify = df['category']\n",
    "train_df = train_df.reset_index(drop=True)\n",
    "validate_df = validate_df.reset_index(drop=True)\n",
    "total_train=train_df.shape[0]\n",
    "total_validate=validate_df.shape[0]\n",
    "batch_size= 15"
   ]
  },
  {
   "cell_type": "code",
   "execution_count": 19,
   "metadata": {
    "colab": {
     "base_uri": "https://localhost:8080/"
    },
    "id": "TLLibjLbidGi",
    "outputId": "695f49cc-e070-4597-c030-7ddd29b6452d"
   },
   "outputs": [
    {
     "name": "stdout",
     "output_type": "stream",
     "text": [
      "Found 3830 validated image filenames belonging to 2 classes.\n"
     ]
    }
   ],
   "source": [
    "#Gerando a base de treino\n",
    "train_datagen = ImageDataGenerator(rotation_range=15,\n",
    "                                rescale=1/255,\n",
    "                                shear_range=0.1,\n",
    "                                zoom_range=0.2,\n",
    "                                horizontal_flip=True,\n",
    "                                width_shift_range=0.1,\n",
    "                                height_shift_range=0.1)\n",
    "train_generator = train_datagen.flow_from_dataframe(train_df,\n",
    "                                                 \"/content/drive/MyDrive/archive/images/gray_images/\",\n",
    "                                                 x_col='filename',y_col='category',\n",
    "                                                 target_size=Image_Size,\n",
    "                                                 class_mode='categorical',\n",
    "                                                 batch_size=batch_size, \n",
    "                                                 color_mode='grayscale',\n",
    "                                                 shuffle=True)"
   ]
  },
  {
   "cell_type": "code",
   "execution_count": 20,
   "metadata": {
    "colab": {
     "base_uri": "https://localhost:8080/"
    },
    "id": "-O5nrz3g-xQd",
    "outputId": "18d1f3b3-f061-4638-81b8-8cb49d08ba9f"
   },
   "outputs": [
    {
     "name": "stdout",
     "output_type": "stream",
     "text": [
      "Found 958 validated image filenames belonging to 2 classes.\n"
     ]
    }
   ],
   "source": [
    "# Gerando a base de validação\n",
    "validation_datagen = ImageDataGenerator(rescale=1/255) # 1.255\n",
    "validation_generator = validation_datagen.flow_from_dataframe(\n",
    "    validate_df, \n",
    "    \"/content/drive/MyDrive/archive/images/gray_images/\", \n",
    "    x_col='filename',\n",
    "    y_col='category',\n",
    "    target_size=Image_Size,\n",
    "    class_mode='categorical',\n",
    "    batch_size=batch_size, \n",
    "    color_mode='grayscale',\n",
    "    shuffle=True)"
   ]
  },
  {
   "cell_type": "markdown",
   "metadata": {},
   "source": [
    "# Treinamento do modelo"
   ]
  },
  {
   "cell_type": "code",
   "execution_count": 21,
   "metadata": {
    "colab": {
     "base_uri": "https://localhost:8080/"
    },
    "id": "xfXYHjIYiihG",
    "outputId": "81b0ef1b-2e38-49d2-c6cc-24466b72dd13"
   },
   "outputs": [
    {
     "name": "stdout",
     "output_type": "stream",
     "text": [
      "Epoch 1/50\n",
      "255/255 [==============================] - 140s 505ms/step - loss: 1.1480 - accuracy: 0.5578 - val_loss: 0.9726 - val_accuracy: 0.4952 - lr: 0.0010\n",
      "Epoch 2/50\n",
      "255/255 [==============================] - 108s 409ms/step - loss: 0.7628 - accuracy: 0.6118 - val_loss: 0.7139 - val_accuracy: 0.5439 - lr: 0.0010\n",
      "Epoch 3/50\n",
      "255/255 [==============================] - 112s 436ms/step - loss: 0.6838 - accuracy: 0.6320 - val_loss: 0.6139 - val_accuracy: 0.6593 - lr: 0.0010\n",
      "Epoch 4/50\n",
      "255/255 [==============================] - 107s 402ms/step - loss: 0.6483 - accuracy: 0.6537 - val_loss: 0.6250 - val_accuracy: 0.6582 - lr: 0.0010\n",
      "Epoch 5/50\n",
      "255/255 [==============================] - ETA: 0s - loss: 0.6290 - accuracy: 0.6684\n",
      "Epoch 00005: ReduceLROnPlateau reducing learning rate to 0.0005000000237487257.\n",
      "255/255 [==============================] - 95s 373ms/step - loss: 0.6290 - accuracy: 0.6684 - val_loss: 1.1484 - val_accuracy: 0.6063 - lr: 0.0010\n",
      "Epoch 6/50\n",
      "255/255 [==============================] - 109s 426ms/step - loss: 0.5921 - accuracy: 0.6907 - val_loss: 0.5877 - val_accuracy: 0.7037 - lr: 5.0000e-04\n",
      "Epoch 7/50\n",
      "255/255 [==============================] - 115s 449ms/step - loss: 0.5717 - accuracy: 0.7080 - val_loss: 0.5296 - val_accuracy: 0.7249 - lr: 5.0000e-04\n",
      "Epoch 8/50\n",
      "255/255 [==============================] - 110s 430ms/step - loss: 0.5634 - accuracy: 0.7054 - val_loss: 0.5177 - val_accuracy: 0.7397 - lr: 5.0000e-04\n",
      "Epoch 9/50\n",
      "255/255 [==============================] - 94s 366ms/step - loss: 0.5630 - accuracy: 0.7135 - val_loss: 0.6879 - val_accuracy: 0.6201 - lr: 5.0000e-04\n",
      "Epoch 10/50\n",
      "255/255 [==============================] - ETA: 0s - loss: 0.5530 - accuracy: 0.7290\n",
      "Epoch 00010: ReduceLROnPlateau reducing learning rate to 0.0002500000118743628.\n",
      "255/255 [==============================] - 93s 365ms/step - loss: 0.5530 - accuracy: 0.7290 - val_loss: 0.5640 - val_accuracy: 0.7164 - lr: 5.0000e-04\n",
      "Epoch 11/50\n",
      "255/255 [==============================] - 109s 426ms/step - loss: 0.5285 - accuracy: 0.7465 - val_loss: 0.5196 - val_accuracy: 0.7407 - lr: 2.5000e-04\n",
      "Epoch 12/50\n",
      "255/255 [==============================] - 112s 439ms/step - loss: 0.5188 - accuracy: 0.7429 - val_loss: 0.5088 - val_accuracy: 0.7556 - lr: 2.5000e-04\n",
      "Epoch 13/50\n",
      "255/255 [==============================] - 93s 364ms/step - loss: 0.5109 - accuracy: 0.7410 - val_loss: 0.5169 - val_accuracy: 0.7534 - lr: 2.5000e-04\n",
      "Epoch 14/50\n",
      "255/255 [==============================] - 104s 408ms/step - loss: 0.5059 - accuracy: 0.7520 - val_loss: 0.4996 - val_accuracy: 0.7608 - lr: 2.5000e-04\n",
      "Epoch 15/50\n",
      "255/255 [==============================] - 92s 361ms/step - loss: 0.5019 - accuracy: 0.7549 - val_loss: 0.4842 - val_accuracy: 0.7545 - lr: 2.5000e-04\n",
      "Epoch 16/50\n",
      "255/255 [==============================] - ETA: 0s - loss: 0.4943 - accuracy: 0.7664\n",
      "Epoch 00016: ReduceLROnPlateau reducing learning rate to 0.0001250000059371814.\n",
      "255/255 [==============================] - 92s 360ms/step - loss: 0.4943 - accuracy: 0.7664 - val_loss: 0.5001 - val_accuracy: 0.7598 - lr: 2.5000e-04\n",
      "Epoch 17/50\n",
      "255/255 [==============================] - 109s 425ms/step - loss: 0.4776 - accuracy: 0.7717 - val_loss: 0.4763 - val_accuracy: 0.7799 - lr: 1.2500e-04\n",
      "Epoch 18/50\n",
      "255/255 [==============================] - 113s 441ms/step - loss: 0.4798 - accuracy: 0.7720 - val_loss: 0.4695 - val_accuracy: 0.7831 - lr: 1.2500e-04\n",
      "Epoch 19/50\n",
      "255/255 [==============================] - 93s 365ms/step - loss: 0.4762 - accuracy: 0.7738 - val_loss: 0.4634 - val_accuracy: 0.7810 - lr: 1.2500e-04\n",
      "Epoch 20/50\n",
      "255/255 [==============================] - ETA: 0s - loss: 0.4746 - accuracy: 0.7751\n",
      "Epoch 00020: ReduceLROnPlateau reducing learning rate to 6.25000029685907e-05.\n",
      "255/255 [==============================] - 93s 365ms/step - loss: 0.4746 - accuracy: 0.7751 - val_loss: 0.4676 - val_accuracy: 0.7767 - lr: 1.2500e-04\n",
      "Epoch 21/50\n",
      "255/255 [==============================] - 110s 430ms/step - loss: 0.4669 - accuracy: 0.7785 - val_loss: 0.4553 - val_accuracy: 0.7852 - lr: 6.2500e-05\n",
      "Epoch 22/50\n",
      "255/255 [==============================] - 112s 439ms/step - loss: 0.4514 - accuracy: 0.7921 - val_loss: 0.4683 - val_accuracy: 0.7862 - lr: 6.2500e-05\n",
      "Epoch 23/50\n",
      "255/255 [==============================] - 107s 420ms/step - loss: 0.4529 - accuracy: 0.7877 - val_loss: 0.4488 - val_accuracy: 0.7884 - lr: 6.2500e-05\n",
      "Epoch 24/50\n",
      "255/255 [==============================] - 108s 423ms/step - loss: 0.4596 - accuracy: 0.7769 - val_loss: 0.4438 - val_accuracy: 0.7937 - lr: 6.2500e-05\n",
      "Epoch 25/50\n",
      "255/255 [==============================] - 98s 384ms/step - loss: 0.4515 - accuracy: 0.7845 - val_loss: 0.4604 - val_accuracy: 0.7905 - lr: 6.2500e-05\n",
      "Epoch 26/50\n",
      "255/255 [==============================] - ETA: 0s - loss: 0.4535 - accuracy: 0.7877\n",
      "Epoch 00026: ReduceLROnPlateau reducing learning rate to 3.125000148429535e-05.\n",
      "255/255 [==============================] - 95s 371ms/step - loss: 0.4535 - accuracy: 0.7877 - val_loss: 0.4512 - val_accuracy: 0.7937 - lr: 6.2500e-05\n",
      "Epoch 27/50\n",
      "255/255 [==============================] - 95s 372ms/step - loss: 0.4391 - accuracy: 0.7934 - val_loss: 0.4553 - val_accuracy: 0.7905 - lr: 3.1250e-05\n",
      "Epoch 28/50\n",
      "255/255 [==============================] - ETA: 0s - loss: 0.4344 - accuracy: 0.7955\n",
      "Epoch 00028: ReduceLROnPlateau reducing learning rate to 1.5625000742147677e-05.\n",
      "255/255 [==============================] - 95s 370ms/step - loss: 0.4344 - accuracy: 0.7955 - val_loss: 0.4669 - val_accuracy: 0.7831 - lr: 3.1250e-05\n",
      "Epoch 29/50\n",
      "255/255 [==============================] - 97s 378ms/step - loss: 0.4435 - accuracy: 0.7911 - val_loss: 0.4528 - val_accuracy: 0.7915 - lr: 1.5625e-05\n",
      "Epoch 30/50\n",
      "255/255 [==============================] - ETA: 0s - loss: 0.4462 - accuracy: 0.7924\n",
      "Epoch 00030: ReduceLROnPlateau reducing learning rate to 1e-05.\n",
      "255/255 [==============================] - 96s 377ms/step - loss: 0.4462 - accuracy: 0.7924 - val_loss: 0.4633 - val_accuracy: 0.7820 - lr: 1.5625e-05\n",
      "Epoch 31/50\n",
      "255/255 [==============================] - 96s 374ms/step - loss: 0.4510 - accuracy: 0.7953 - val_loss: 0.4566 - val_accuracy: 0.7905 - lr: 1.0000e-05\n",
      "Epoch 32/50\n",
      "255/255 [==============================] - 113s 443ms/step - loss: 0.4480 - accuracy: 0.7932 - val_loss: 0.4519 - val_accuracy: 0.7989 - lr: 1.0000e-05\n",
      "Epoch 33/50\n",
      "255/255 [==============================] - 99s 388ms/step - loss: 0.4381 - accuracy: 0.7890 - val_loss: 0.4579 - val_accuracy: 0.7884 - lr: 1.0000e-05\n",
      "Epoch 34/50\n",
      "255/255 [==============================] - 95s 372ms/step - loss: 0.4468 - accuracy: 0.7908 - val_loss: 0.4490 - val_accuracy: 0.7968 - lr: 1.0000e-05\n",
      "Epoch 35/50\n",
      "255/255 [==============================] - 95s 373ms/step - loss: 0.4466 - accuracy: 0.7932 - val_loss: 0.4579 - val_accuracy: 0.7905 - lr: 1.0000e-05\n",
      "Epoch 36/50\n",
      "255/255 [==============================] - 97s 381ms/step - loss: 0.4472 - accuracy: 0.7971 - val_loss: 0.4581 - val_accuracy: 0.7937 - lr: 1.0000e-05\n",
      "Epoch 37/50\n",
      "255/255 [==============================] - 96s 376ms/step - loss: 0.4535 - accuracy: 0.7877 - val_loss: 0.4502 - val_accuracy: 0.7989 - lr: 1.0000e-05\n",
      "Epoch 38/50\n",
      "255/255 [==============================] - 110s 432ms/step - loss: 0.4406 - accuracy: 0.7979 - val_loss: 0.4464 - val_accuracy: 0.8011 - lr: 1.0000e-05\n",
      "Epoch 39/50\n",
      "255/255 [==============================] - 97s 381ms/step - loss: 0.4332 - accuracy: 0.7984 - val_loss: 0.4611 - val_accuracy: 0.7894 - lr: 1.0000e-05\n",
      "Epoch 40/50\n",
      "255/255 [==============================] - 93s 366ms/step - loss: 0.4404 - accuracy: 0.7955 - val_loss: 0.4588 - val_accuracy: 0.7947 - lr: 1.0000e-05\n",
      "Epoch 41/50\n",
      "255/255 [==============================] - 93s 364ms/step - loss: 0.4368 - accuracy: 0.8005 - val_loss: 0.4582 - val_accuracy: 0.7937 - lr: 1.0000e-05\n",
      "Epoch 42/50\n",
      "255/255 [==============================] - 93s 363ms/step - loss: 0.4493 - accuracy: 0.7900 - val_loss: 0.4575 - val_accuracy: 0.7947 - lr: 1.0000e-05\n",
      "Epoch 43/50\n",
      "255/255 [==============================] - 93s 363ms/step - loss: 0.4458 - accuracy: 0.7974 - val_loss: 0.4560 - val_accuracy: 0.7979 - lr: 1.0000e-05\n",
      "Epoch 44/50\n",
      "255/255 [==============================] - 93s 363ms/step - loss: 0.4409 - accuracy: 0.7934 - val_loss: 0.4575 - val_accuracy: 0.7905 - lr: 1.0000e-05\n"
     ]
    }
   ],
   "source": [
    "# Treinamento do modelo\n",
    "epochs=50\n",
    "history = model.fit(\n",
    "    train_generator, \n",
    "    epochs=epochs,\n",
    "    validation_data=validation_generator,\n",
    "    validation_steps=total_validate//batch_size,\n",
    "    steps_per_epoch=total_train//batch_size,\n",
    "    callbacks=callbacks,\n",
    "    verbose = 1\n",
    ")"
   ]
  },
  {
   "cell_type": "code",
   "execution_count": 22,
   "metadata": {
    "id": "ZIx_QKeHrQyx"
   },
   "outputs": [],
   "source": [
    "model.save('/content/drive/MyDrive/last_model_gray.h5')"
   ]
  },
  {
   "cell_type": "code",
   "execution_count": 23,
   "metadata": {
    "id": "6aVZrvpgYeH1"
   },
   "outputs": [],
   "source": [
    "from tensorflow import keras\n",
    "#model = keras.models.load_model('/content/drive/MyDrive/last_model_gray.h5')\n",
    "#model = keras.models.load_model('/content/drive/MyDrive/best_model_gray.h5')"
   ]
  },
  {
   "cell_type": "code",
   "execution_count": 24,
   "metadata": {
    "colab": {
     "base_uri": "https://localhost:8080/"
    },
    "id": "6qgfo-UkqI0c",
    "outputId": "8b85633b-f689-4615-ea65-59dfaa91aa3e"
   },
   "outputs": [
    {
     "name": "stdout",
     "output_type": "stream",
     "text": [
      "256/256 [==============================] - 57s 222ms/step - loss: 0.4054 - accuracy: 0.8151\n"
     ]
    }
   ],
   "source": [
    "evaluation = model.evaluate(\n",
    "    train_generator,\n",
    "    verbose=1,\n",
    "    max_queue_size=10,\n",
    "    workers=2,\n",
    "    use_multiprocessing=True,\n",
    ")"
   ]
  },
  {
   "cell_type": "code",
   "execution_count": 25,
   "metadata": {
    "colab": {
     "base_uri": "https://localhost:8080/"
    },
    "id": "8Gm27oSet8cn",
    "outputId": "cbaacc0f-4379-42c1-b6b4-be0668b57a07"
   },
   "outputs": [
    {
     "name": "stdout",
     "output_type": "stream",
     "text": [
      "Test Loss: 0.4053851366043091 | Test accurracy: 0.8151435852050781\n"
     ]
    }
   ],
   "source": [
    "print(f'Test Loss: {evaluation[0]} | Test accurracy: {evaluation[1]}')"
   ]
  },
  {
   "cell_type": "markdown",
   "metadata": {},
   "source": [
    "# Matriz de confusão"
   ]
  },
  {
   "cell_type": "code",
   "execution_count": 26,
   "metadata": {
    "colab": {
     "base_uri": "https://localhost:8080/"
    },
    "id": "BxiI5MDgOn1v",
    "outputId": "768f1264-b63c-4127-a94a-d90eb9c015b9",
    "scrolled": true
   },
   "outputs": [
    {
     "name": "stderr",
     "output_type": "stream",
     "text": [
      "/usr/local/lib/python3.7/dist-packages/ipykernel_launcher.py:2: UserWarning: `Model.predict_generator` is deprecated and will be removed in a future version. Please use `Model.predict`, which supports generators.\n",
      "  \n"
     ]
    }
   ],
   "source": [
    "# Matriz de confusão da base de validação\n",
    "predict = model.predict_generator(validation_generator)"
   ]
  },
  {
   "cell_type": "code",
   "execution_count": 27,
   "metadata": {
    "id": "Z3R3FoDLliH7"
   },
   "outputs": [],
   "source": [
    "%matplotlib inline\n",
    "from sklearn.metrics import confusion_matrix\n",
    "import itertools\n",
    "import matplotlib.pyplot as plt"
   ]
  },
  {
   "cell_type": "code",
   "execution_count": 28,
   "metadata": {
    "id": "7Zx_F3l18UMX"
   },
   "outputs": [],
   "source": [
    "previsoes = np.argmax(predict, axis=-1)"
   ]
  },
  {
   "cell_type": "code",
   "execution_count": 29,
   "metadata": {
    "id": "g_yjVKXpomOq"
   },
   "outputs": [],
   "source": [
    "cm = confusion_matrix(y_true=validate_df['category'].replace({ 'dog': 1, 'cat': 0 }), y_pred=previsoes)"
   ]
  },
  {
   "cell_type": "code",
   "execution_count": 30,
   "metadata": {
    "id": "B-L8iOJfakAC"
   },
   "outputs": [],
   "source": [
    "def plot_confusion_matrix(cm, classes,\n",
    "                        normalize=False,\n",
    "                        title='Confusion matrix',\n",
    "                        cmap=plt.cm.Blues):\n",
    "    plt.imshow(cm, interpolation='nearest', cmap=cmap)\n",
    "    plt.title(title)\n",
    "    plt.colorbar()\n",
    "    tick_marks = np.arange(len(classes))\n",
    "    plt.xticks(tick_marks, classes, rotation=45)\n",
    "    plt.yticks(tick_marks, classes)\n",
    "\n",
    "    if normalize:\n",
    "        cm = cm.astype('float') / cm.sum(axis=1)[:, np.newaxis]\n",
    "        print(\"Normalized confusion matrix\")\n",
    "    else:\n",
    "        print('Confusion matrix, without normalization')\n",
    "\n",
    "    print(cm)\n",
    "\n",
    "    thresh = cm.max() / 2.\n",
    "    for i, j in itertools.product(range(cm.shape[0]), range(cm.shape[1])):\n",
    "        plt.text(j, i, cm[i, j],\n",
    "            horizontalalignment=\"center\",\n",
    "            color=\"white\" if cm[i, j] > thresh else \"black\")\n",
    "\n",
    "    plt.tight_layout()\n",
    "    plt.ylabel('True label')\n",
    "    plt.xlabel('Predicted label')"
   ]
  },
  {
   "cell_type": "code",
   "execution_count": 31,
   "metadata": {
    "id": "ExvuQd9F8UMZ"
   },
   "outputs": [],
   "source": [
    "cm_plot_labels = ['Cat','Dog']"
   ]
  },
  {
   "cell_type": "code",
   "execution_count": 32,
   "metadata": {
    "colab": {
     "base_uri": "https://localhost:8080/",
     "height": 363
    },
    "id": "JGOwoXpi8UMa",
    "outputId": "d9d0148c-cf84-437a-d22d-562402496366"
   },
   "outputs": [
    {
     "name": "stdout",
     "output_type": "stream",
     "text": [
      "Confusion matrix, without normalization\n",
      "[[242 232]\n",
      " [229 255]]\n"
     ]
    },
    {
     "data": {
      "image/png": "[encoded data removed]",
      "text/plain": [
       "<Figure size 432x288 with 2 Axes>"
      ]
     },
     "metadata": {
      "needs_background": "light"
     },
     "output_type": "display_data"
    }
   ],
   "source": [
    "plot_confusion_matrix(cm=cm, classes=cm_plot_labels, title='Confusion Matrix')"
   ]
  },
  {
   "cell_type": "code",
   "execution_count": 32,
   "metadata": {
    "id": "uvQq2uTtRtDm"
   },
   "outputs": [],
   "source": []
  }
 ],
 "metadata": {
  "accelerator": "GPU",
  "colab": {
   "collapsed_sections": [],
   "name": "dogs_and_cats_gray.ipynb",
   "provenance": []
  },
  "kernelspec": {
   "display_name": "Python 3",
   "language": "python",
   "name": "python3"
  },
  "language_info": {
   "codemirror_mode": {
    "name": "ipython",
    "version": 3
   },
   "file_extension": ".py",
   "mimetype": "text/x-python",
   "name": "python",
   "nbconvert_exporter": "python",
   "pygments_lexer": "ipython3",
   "version": "3.8.8"
  }
 },
 "nbformat": 4,
 "nbformat_minor": 1
}
